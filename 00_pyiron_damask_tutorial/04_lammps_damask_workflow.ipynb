{
 "cells": [
  {
   "cell_type": "markdown",
   "id": "305631e3-bedf-4bb7-80ad-72c1dbed844d",
   "metadata": {},
   "source": [
    "## <font style=\"font-family:roboto;color:#455e6c\"> Concentration Dependent Stress-Strain Simulation DAMASK </font>  "
   ]
  },
  {
   "cell_type": "markdown",
   "id": "98b9d93a-08eb-44dc-b7ec-85f510d1f893",
   "metadata": {},
   "source": [
    "<div class=\"admonition note\" name=\"html-admonition\" style=\"background:#e3f2fd; padding: 10px\">\n",
    "<font style=\"font-family:roboto;color:#455e6c\"> <b> StahlDigital Tutorial: Creating and Running Simulations for Steel Development </b> </font> </br>\n",
    "<font style=\"font-family:roboto;color:#455e6c\"> 25 April 2024 </font>\n",
    "</div>"
   ]
  },
  {
   "cell_type": "markdown",
   "id": "3b3fd352-fa8d-4f79-acdc-8559a284a453",
   "metadata": {},
   "source": [
    "In this notebook, we will use `pyiron`:\n",
    "- to relax a base crystal structure with `Lammps`.\n",
    "- to create `special quasirandom structures (sqs)` with requested chemical composition from the base crystal structure with.\n",
    "- to calculate elastic tensors of the sqs structures with different chemical comosition.\n",
    "- to calculate concentration depandent stress-strain curves with `Damask` using the calculated elastic tensors."
   ]
  },
  {
   "cell_type": "markdown",
   "id": "08f03ab0-7c2c-4f4d-a546-474acf615714",
   "metadata": {},
   "source": [
    "### <font style=\"font-family:roboto;color:#455e6c\"> Import necessary libraries </font>  "
   ]
  },
  {
   "cell_type": "code",
   "execution_count": 1,
   "id": "42577a64-82eb-49c6-bfd0-f237cf49b8ba",
   "metadata": {},
   "outputs": [
    {
     "data": {
      "application/vnd.jupyter.widget-view+json": {
       "model_id": "cd8889a3b63c4f5c9ad46952c6e2023c",
       "version_major": 2,
       "version_minor": 0
      },
      "text/plain": []
     },
     "metadata": {},
     "output_type": "display_data"
    }
   ],
   "source": [
    "%matplotlib inline\n",
    "import numpy as np\n",
    "import matplotlib.pylab as plt\n",
    "from pyiron import Project\n",
    "import seaborn as sns"
   ]
  },
  {
   "cell_type": "code",
   "execution_count": 2,
   "id": "74dd6688-ae49-4351-be7a-517297ccc9c9",
   "metadata": {},
   "outputs": [],
   "source": [
    "from damask import Rotation # We need this to create rotation"
   ]
  },
  {
   "cell_type": "code",
   "execution_count": 3,
   "id": "43229c02-a12a-4b2e-be2b-4596b402ec82",
   "metadata": {},
   "outputs": [],
   "source": [
    "# Unit conversion factors: from megapascal(MPa) and gegapascal(GPa) to pascal(Pa)  \n",
    "MPa_to_Pa = 1e+6\n",
    "GPa_to_Pa = 1e+9"
   ]
  },
  {
   "cell_type": "markdown",
   "id": "de6fd5c2-4c7a-4908-aed7-c3e682a3f1a0",
   "metadata": {},
   "source": [
    "#### <font style=\"font-family:roboto;color:#455e6c\"> Create a pyiron project </font>  "
   ]
  },
  {
   "cell_type": "code",
   "execution_count": 4,
   "id": "a71da8bb-4874-414d-b617-7bce254a039c",
   "metadata": {},
   "outputs": [],
   "source": [
    "pr = Project('lammps_damask_workflow')"
   ]
  },
  {
   "cell_type": "markdown",
   "id": "eac63285-47c8-4b60-9977-7218df8ee5cf",
   "metadata": {},
   "source": [
    "#### <font style=\"font-family:roboto;color:#455e6c\"> Minimize the base structure </font>  "
   ]
  },
  {
   "cell_type": "markdown",
   "id": "96d3c3a5-d676-4365-a5ea-80bf43438eff",
   "metadata": {},
   "source": [
    "Our base structure is bcc Fe with 0% Al"
   ]
  },
  {
   "cell_type": "code",
   "execution_count": 5,
   "id": "17b05c14-a441-4d33-84c5-ea48aa6b6f88",
   "metadata": {},
   "outputs": [
    {
     "name": "stdout",
     "output_type": "stream",
     "text": [
      "The job lammps_mini was saved and received the ID: 54\n"
     ]
    }
   ],
   "source": [
    "# Structure optimization with Lammps\n",
    "lmp_mini = pr.create.job.Lammps(job_name='lammps_mini')\n",
    "lmp_mini.structure = pr.create.structure.bulk('Fe', cubic=True).repeat(5)\n",
    "lmp_mini.potential = '2005--Mendelev-M-I--Al-Fe--LAMMPS--ipr1'\n",
    "lmp_mini.calc_minimize(pressure=0.0)\n",
    "lmp_mini.run()"
   ]
  },
  {
   "attachments": {},
   "cell_type": "markdown",
   "id": "8c09d182-843a-4650-9123-4355e57b721d",
   "metadata": {},
   "source": [
    "#### <font style=\"font-family:roboto;color:#455e6c\"> Create the SQS structures </font> \n",
    "\n",
    "We will create `SQS` structures for four dilute concentrations of `Al (1%, 2%, 3%, and 4%)`"
   ]
  },
  {
   "cell_type": "code",
   "execution_count": 6,
   "id": "07a549bd-136b-4bb3-b79b-089b54981ea3",
   "metadata": {},
   "outputs": [],
   "source": [
    "concentrations = [0.0, 0.01, 0.02, 0.03, 0.04]"
   ]
  },
  {
   "cell_type": "code",
   "execution_count": 7,
   "id": "ce96f428-296b-45be-bdb6-fa3c34b401ea",
   "metadata": {},
   "outputs": [
    {
     "data": {
      "text/html": [
       "<pre style=\"white-space:pre;overflow-x:auto;line-height:normal;font-family:Menlo,'DejaVu Sans Mono',consolas,'Courier New',monospace\"></pre>\n"
      ],
      "text/plain": []
     },
     "metadata": {},
     "output_type": "display_data"
    },
    {
     "data": {
      "text/html": [
       "<pre style=\"white-space:pre;overflow-x:auto;line-height:normal;font-family:Menlo,'DejaVu Sans Mono',consolas,'Courier New',monospace\"></pre>\n"
      ],
      "text/plain": []
     },
     "metadata": {},
     "output_type": "display_data"
    },
    {
     "name": "stdout",
     "output_type": "stream",
     "text": [
      "The job master_al was saved and received the ID: 55\n",
      "The job sqs_0_01 was saved and received the ID: 56\n"
     ]
    },
    {
     "name": "stderr",
     "output_type": "stream",
     "text": [
      "/srv/conda/envs/notebook/lib/python3.11/site-packages/structuretoolkit/build/sqs.py:43: UserWarning: The current mole-fraction specification cannot be applied to 250 atoms, as it would lead to fractional occupation. Hence, I have changed it from \"{'Al': 0.01, 'Fe': 0.99}\" -> \"{'Al': 0.008, 'Fe': 0.992}\"\n",
      "  warnings.warn(\n"
     ]
    },
    {
     "name": "stdout",
     "output_type": "stream",
     "text": [
      "The job sqs_0_02 was saved and received the ID: 57\n",
      "The job sqs_0_03 was saved and received the ID: 58\n"
     ]
    },
    {
     "name": "stderr",
     "output_type": "stream",
     "text": [
      "/srv/conda/envs/notebook/lib/python3.11/site-packages/structuretoolkit/build/sqs.py:43: UserWarning: The current mole-fraction specification cannot be applied to 250 atoms, as it would lead to fractional occupation. Hence, I have changed it from \"{'Al': 0.03, 'Fe': 0.97}\" -> \"{'Al': 0.032, 'Fe': 0.968}\"\n",
      "  warnings.warn(\n"
     ]
    },
    {
     "name": "stdout",
     "output_type": "stream",
     "text": [
      "The job sqs_0_04 was saved and received the ID: 59\n"
     ]
    }
   ],
   "source": [
    "sqs_job = pr.create.job.SQSJob(job_name=\"sqs_job_al\")\n",
    "sqs_job.structure = lmp_mini.get_structure()\n",
    "sqs_job.input['iterations'] = 1000\n",
    "\n",
    "sqs_master_job = pr.create.job.SQSMaster(job_name=\"master_al\")\n",
    "sqs_master_job.ref_job = sqs_job\n",
    "sqs_master_job.input[\"fraction_lst\"] = concentrations[1:]\n",
    "sqs_master_job.input[\"species_one\"] = \"Al\"\n",
    "sqs_master_job.input[\"species_two\"] = \"Fe\"\n",
    "sqs_master_job.run()"
   ]
  },
  {
   "cell_type": "markdown",
   "id": "1dcc5451-c7ac-43d2-8c4c-359bf93891ba",
   "metadata": {},
   "source": [
    "Collect all structures, including the base structure without any Alluminum"
   ]
  },
  {
   "cell_type": "code",
   "execution_count": 8,
   "id": "8d7d9020-b939-4b3c-978b-42d22371a5d5",
   "metadata": {},
   "outputs": [],
   "source": [
    "# Collect all structures into a list\n",
    "structure_lst = [lmp_mini.get_structure()] + sqs_master_job.list_of_structures"
   ]
  },
  {
   "cell_type": "code",
   "execution_count": 9,
   "id": "123cc1cf-27e9-4849-bd7b-541f970f3b44",
   "metadata": {},
   "outputs": [
    {
     "data": {
      "text/plain": [
       "['Fe250', 'Al2Fe248', 'Al5Fe245', 'Al8Fe242', 'Al10Fe240']"
      ]
     },
     "execution_count": 9,
     "metadata": {},
     "output_type": "execute_result"
    }
   ],
   "source": [
    "# Print chemical formula of each structures\n",
    "[s.get_chemical_formula() for s in structure_lst]"
   ]
  },
  {
   "cell_type": "markdown",
   "id": "07724ae9-2c89-45cc-9d24-f960daebb75f",
   "metadata": {},
   "source": [
    "#### <font style=\"font-family:roboto;color:#455e6c\"> Calculate elastic tensors for all structures </font> "
   ]
  },
  {
   "cell_type": "code",
   "execution_count": 10,
   "id": "a04a8d86-01f3-4463-8f79-eb853f3ebd0f",
   "metadata": {},
   "outputs": [
    {
     "name": "stdout",
     "output_type": "stream",
     "text": [
      "The job elastic_Fe250 was saved and received the ID: 60\n",
      "The job elastic_Fe250_lammps_tmp was saved and received the ID: 61\n"
     ]
    },
    {
     "name": "stderr",
     "output_type": "stream",
     "text": [
      "[jupyter-pyiron-2ddsms-5fexample-2dnwvhe75z:01092] mca_base_component_repository_open: unable to open mca_btl_openib: librdmacm.so.1: cannot open shared object file: No such file or directory (ignored)\n",
      "/srv/conda/envs/notebook/lib/python3.11/site-packages/pylammpsmpi/wrapper/ase.py:165: UserWarning: Warning: setting upper trangular matrix might slow down the calculation\n",
      "  warnings.warn(\n"
     ]
    },
    {
     "name": "stdout",
     "output_type": "stream",
     "text": [
      "The job elastic_Al2Fe248 was saved and received the ID: 62\n",
      "The job elastic_Al2Fe248_lammps_tmp was saved and received the ID: 63\n"
     ]
    },
    {
     "name": "stderr",
     "output_type": "stream",
     "text": [
      "/srv/conda/envs/notebook/lib/python3.11/site-packages/pylammpsmpi/wrapper/ase.py:165: UserWarning: Warning: setting upper trangular matrix might slow down the calculation\n",
      "  warnings.warn(\n"
     ]
    },
    {
     "name": "stdout",
     "output_type": "stream",
     "text": [
      "The job elastic_Al5Fe245 was saved and received the ID: 64\n",
      "The job elastic_Al5Fe245_lammps_tmp was saved and received the ID: 65\n"
     ]
    },
    {
     "name": "stderr",
     "output_type": "stream",
     "text": [
      "/srv/conda/envs/notebook/lib/python3.11/site-packages/pylammpsmpi/wrapper/ase.py:165: UserWarning: Warning: setting upper trangular matrix might slow down the calculation\n",
      "  warnings.warn(\n"
     ]
    },
    {
     "name": "stdout",
     "output_type": "stream",
     "text": [
      "The job elastic_Al8Fe242 was saved and received the ID: 66\n",
      "The job elastic_Al8Fe242_lammps_tmp was saved and received the ID: 67\n"
     ]
    },
    {
     "name": "stderr",
     "output_type": "stream",
     "text": [
      "/srv/conda/envs/notebook/lib/python3.11/site-packages/pylammpsmpi/wrapper/ase.py:165: UserWarning: Warning: setting upper trangular matrix might slow down the calculation\n",
      "  warnings.warn(\n"
     ]
    },
    {
     "name": "stdout",
     "output_type": "stream",
     "text": [
      "The job elastic_Al10Fe240 was saved and received the ID: 68\n",
      "The job elastic_Al10Fe240_lammps_tmp was saved and received the ID: 69\n"
     ]
    },
    {
     "name": "stderr",
     "output_type": "stream",
     "text": [
      "/srv/conda/envs/notebook/lib/python3.11/site-packages/pylammpsmpi/wrapper/ase.py:165: UserWarning: Warning: setting upper trangular matrix might slow down the calculation\n",
      "  warnings.warn(\n"
     ]
    }
   ],
   "source": [
    "# Elastic tensor calculation\n",
    "for s in structure_lst:\n",
    "    lmp_template = pr.create.job.Lammps('lammps_tmp')\n",
    "    lmp_template.potential = '2005--Mendelev-M-I--Al-Fe--LAMMPS--ipr1'\n",
    "    lmp_template.server.run_mode.interactive = True\n",
    "    lmp_template.interactive_enforce_structure_reset = True\n",
    "    lmp_template.structure = s\n",
    "    elastic = lmp_template.create_job(pr.job_type.ElasticTensor, \n",
    "                                      'elastic_' + s.get_chemical_formula())\n",
    "    elastic.input['num_of_points'] = 5\n",
    "    elastic.input['fit_order'] = 2\n",
    "    elastic.input['eps_range'] = 0.005\n",
    "    elastic.input['relax_atoms'] = True\n",
    "    elastic.input['sqrt_eta'] = True\n",
    "    elastic.run()"
   ]
  },
  {
   "cell_type": "markdown",
   "id": "4c8beaa3-9055-490f-8cab-99b60fa55107",
   "metadata": {},
   "source": [
    "#### <font style=\"font-family:roboto;color:#455e6c\"> Collect elastic tensor values for all structures using PyironTable Job </font> "
   ]
  },
  {
   "cell_type": "code",
   "execution_count": 11,
   "id": "0764d2fd-5694-4d9c-b800-4b107da175b5",
   "metadata": {},
   "outputs": [],
   "source": [
    "# Define some python function to collect the data from our project\n",
    "def filter_function(job): \n",
    "    return \"elastic_\" in job.job_name and \"lammps_tmp\" not in job.job_name\n",
    "    \n",
    "def get_c11(job):\n",
    "    return job[\"output/elastic_tensor\"][0,0]\n",
    "\n",
    "def get_c12(job):\n",
    "    return job[\"output/elastic_tensor\"][0,1]\n",
    "\n",
    "def get_c44(job):\n",
    "    return job[\"output/elastic_tensor\"][3,3]"
   ]
  },
  {
   "cell_type": "code",
   "execution_count": 12,
   "id": "55db7725-d822-43b6-b2c0-50ee2b01d748",
   "metadata": {},
   "outputs": [
    {
     "name": "stdout",
     "output_type": "stream",
     "text": [
      "The job table was saved and received the ID: 70\n"
     ]
    },
    {
     "data": {
      "application/vnd.jupyter.widget-view+json": {
       "model_id": "46ae0649591f46d68e93a4e860a6d204",
       "version_major": 2,
       "version_minor": 0
      },
      "text/plain": [
       "Loading and filtering jobs:   0%|          | 0/17 [00:00<?, ?it/s]"
      ]
     },
     "metadata": {},
     "output_type": "display_data"
    },
    {
     "data": {
      "application/vnd.jupyter.widget-view+json": {
       "model_id": "5dff5dc7bfcf42f6a39535deeb570f50",
       "version_major": 2,
       "version_minor": 0
      },
      "text/plain": [
       "  0%|          | 0/5 [00:00<?, ?it/s]"
      ]
     },
     "metadata": {},
     "output_type": "display_data"
    }
   ],
   "source": [
    "# Create and run the Pyiron Table Job\n",
    "table = pr.create_table()\n",
    "\n",
    "table.filter_function = filter_function\n",
    "table.add[\"C11\"] = get_c11\n",
    "table.add[\"C12\"] = get_c12\n",
    "table.add[\"C44\"] = get_c44\n",
    "\n",
    "table.run()"
   ]
  },
  {
   "cell_type": "code",
   "execution_count": 13,
   "id": "1ea66776-847e-4c55-ac9f-a6403a8c0acb",
   "metadata": {},
   "outputs": [
    {
     "data": {
      "text/html": [
       "<div>\n",
       "<style scoped>\n",
       "    .dataframe tbody tr th:only-of-type {\n",
       "        vertical-align: middle;\n",
       "    }\n",
       "\n",
       "    .dataframe tbody tr th {\n",
       "        vertical-align: top;\n",
       "    }\n",
       "\n",
       "    .dataframe thead th {\n",
       "        text-align: right;\n",
       "    }\n",
       "</style>\n",
       "<table border=\"1\" class=\"dataframe\">\n",
       "  <thead>\n",
       "    <tr style=\"text-align: right;\">\n",
       "      <th></th>\n",
       "      <th>job_id</th>\n",
       "      <th>C11</th>\n",
       "      <th>C12</th>\n",
       "      <th>C44</th>\n",
       "    </tr>\n",
       "  </thead>\n",
       "  <tbody>\n",
       "    <tr>\n",
       "      <th>0</th>\n",
       "      <td>60</td>\n",
       "      <td>241.569508</td>\n",
       "      <td>144.121943</td>\n",
       "      <td>113.630110</td>\n",
       "    </tr>\n",
       "    <tr>\n",
       "      <th>1</th>\n",
       "      <td>62</td>\n",
       "      <td>238.971339</td>\n",
       "      <td>143.238860</td>\n",
       "      <td>114.499282</td>\n",
       "    </tr>\n",
       "    <tr>\n",
       "      <th>2</th>\n",
       "      <td>64</td>\n",
       "      <td>236.114971</td>\n",
       "      <td>142.832650</td>\n",
       "      <td>115.920808</td>\n",
       "    </tr>\n",
       "    <tr>\n",
       "      <th>3</th>\n",
       "      <td>66</td>\n",
       "      <td>234.412387</td>\n",
       "      <td>143.088173</td>\n",
       "      <td>115.378587</td>\n",
       "    </tr>\n",
       "    <tr>\n",
       "      <th>4</th>\n",
       "      <td>68</td>\n",
       "      <td>232.622515</td>\n",
       "      <td>143.936576</td>\n",
       "      <td>115.090646</td>\n",
       "    </tr>\n",
       "  </tbody>\n",
       "</table>\n",
       "</div>"
      ],
      "text/plain": [
       "   job_id         C11         C12         C44\n",
       "0      60  241.569508  144.121943  113.630110\n",
       "1      62  238.971339  143.238860  114.499282\n",
       "2      64  236.114971  142.832650  115.920808\n",
       "3      66  234.412387  143.088173  115.378587\n",
       "4      68  232.622515  143.936576  115.090646"
      ]
     },
     "execution_count": 13,
     "metadata": {},
     "output_type": "execute_result"
    }
   ],
   "source": [
    "# Convert the collected data into a pandas DataFrame\n",
    "df_data = table.get_dataframe()\n",
    "df_data"
   ]
  },
  {
   "cell_type": "markdown",
   "id": "7020ccce-0e3e-4a7a-97bc-4316ac723ae3",
   "metadata": {},
   "source": [
    "#### <font style=\"font-family:roboto;color:#455e6c\"> Continuous concentration using ploynomial fitting </font> "
   ]
  },
  {
   "cell_type": "code",
   "execution_count": 25,
   "id": "6b1b9d0b-e0e9-4068-ad77-f01afd57a6d6",
   "metadata": {},
   "outputs": [],
   "source": [
    "# Collect the required elastic constant values from pndas DataFrame\n",
    "C11_data = df_data[\"C11\"].values\n",
    "C12_data = df_data[\"C12\"].values\n",
    "C44_data = df_data[\"C44\"].values"
   ]
  },
  {
   "cell_type": "code",
   "execution_count": 26,
   "id": "ebb44029-be28-4758-9797-060873480f2d",
   "metadata": {
    "ExecuteTime": {
     "end_time": "2020-10-05T08:18:13.444764Z",
     "start_time": "2020-10-05T08:18:13.425319Z"
    }
   },
   "outputs": [],
   "source": [
    "# Second order ploynomial fitting of the elastic constants \n",
    "fit_degree = 2\n",
    "C11_fit = np.polyfit(concentrations, C11_data, deg=fit_degree)\n",
    "C12_fit = np.polyfit(concentrations, C12_data, deg=fit_degree)\n",
    "C44_fit = np.polyfit(concentrations, C44_data, deg=fit_degree)\n",
    "c = np.linspace(min(concentrations),\n",
    "                max(concentrations), 100) # Continuous concentration"
   ]
  },
  {
   "cell_type": "code",
   "execution_count": 27,
   "id": "97c88ba3-9910-4bea-a02a-46da4f7383af",
   "metadata": {},
   "outputs": [],
   "source": [
    "%matplotlib inline"
   ]
  },
  {
   "cell_type": "code",
   "execution_count": 28,
   "id": "87a20d95-0730-4cf4-935c-07ea07eaba3e",
   "metadata": {
    "ExecuteTime": {
     "end_time": "2020-10-05T08:18:14.491958Z",
     "start_time": "2020-10-05T08:18:13.507439Z"
    }
   },
   "outputs": [
    {
     "data": {
      "image/png": "[encoded data removed]",
      "text/plain": [
       "<Figure size 640x480 with 1 Axes>"
      ]
     },
     "metadata": {},
     "output_type": "display_data"
    }
   ],
   "source": [
    "# Plot the original and fitted elastic constant values\n",
    "for color, data, fit, label in zip(\n",
    "    sns.color_palette(n_colors=3), \n",
    "    [C11_data, C12_data, C44_data], \n",
    "    [C11_fit, C12_fit, C44_fit],\n",
    "    ['C11', 'C12', 'C44']\n",
    "):\n",
    "    plt.scatter(concentrations, data, color=color)\n",
    "    plt.plot(c, np.polyval(fit, c), color=color, label=label)\n",
    "plt.xlabel('Al concentration')\n",
    "plt.ylabel('Elastic constant (GPa)')\n",
    "plt.legend()\n",
    "plt.show();"
   ]
  },
  {
   "cell_type": "markdown",
   "id": "db7d8eab-c982-49f1-9113-a90d377d4613",
   "metadata": {},
   "source": [
    "#### <font style=\"font-family:roboto;color:#455e6c\"> Run DAMASK simulation usnig the fitted elastic constant values </font> "
   ]
  },
  {
   "cell_type": "code",
   "execution_count": 18,
   "id": "a30b24ce-3171-4357-9296-6005ad5dfa8e",
   "metadata": {},
   "outputs": [],
   "source": [
    "# A python function to run DAMASK\n",
    "def run_damask_simulation(elasticity_data, \n",
    "                          plasticity_data,\n",
    "                          delete_existing_job=False):\n",
    "    \"\"\"\n",
    "    This function takes elastic tensors as input argument and returns\n",
    "    strain and stress values of damask tensile simulation.\n",
    "    \"\"\"\n",
    "    # Create a damask job\n",
    "    job_damask = pr.create.job.DAMASK(\"damask_simulation_\"+str(c), \n",
    "                                      delete_existing_job=delete_existing_job)\n",
    "    \n",
    "    # Elastic paramaters of the material\n",
    "    elasticity = pr.continuum.damask.Elasticity(**elasticity_data)\n",
    "    \n",
    "    # Plastic parameters of the material\n",
    "    plasticity = pr.continuum.damask.Plasticity(**plasticity_data)\n",
    "    # Define phase of the material\n",
    "    phase = pr.continuum.damask.Phase(composition ='DX56D',\n",
    "                                      lattice = 'cI',\n",
    "                                      output_list = ['F', 'P'],\n",
    "                                      elasticity = elasticity, \n",
    "                                      plasticity = plasticity\n",
    "                                     )\n",
    "    # Define homogenization\n",
    "    homogenization = pr.continuum.damask.Homogenization(method='SX',\n",
    "                                                        parameters={'N_constituents': 1,\n",
    "                                                                    \"mechanical\": {\"type\": \"pass\"}})\n",
    "    # Defines the number of grains and grids\n",
    "    grains = 60\n",
    "    grids = 16 \n",
    "    \n",
    "    # Define homogenization\n",
    "    rotation = pr.continuum.damask.Rotation(Rotation.from_random,\n",
    "                                            grains)\n",
    "    # Materialpoint configuration\n",
    "    material = pr.continuum.damask.Material([rotation],\n",
    "                                            ['DX56D'],\n",
    "                                            phase,\n",
    "                                            homogenization)\n",
    "    # Define grid\n",
    "    grid = pr.continuum.damask.Grid.via_voronoi_tessellation(spatial_discretization=grids,\n",
    "                                                             num_grains=grains,\n",
    "                                                             box_size=1.6e-5)\n",
    "    \n",
    "    # Assign the material and grid to the damask job\n",
    "    job_damask.material = material\n",
    "    job_damask.grid = grid\n",
    "    \n",
    "    # Generate a load case for the grid solver\n",
    "    load_step =[{'mech_bc_dict' : \n",
    "                 {'dot_F' : [1e-3, 0, 0,\n",
    "                             0, 'x', 0,\n",
    "                             0, 0, 'x'],\n",
    "                  'P' : ['x', 'x', 'x',\n",
    "                         'x', 0, 'x',\n",
    "                         'x', 'x', 0]\n",
    "                  },\n",
    "                 'discretization' : {'t' : 10., 'N' : 40},\n",
    "                 'additional': {'f_out' : 4}\n",
    "                 },\n",
    "                {'mech_bc_dict' : \n",
    "                 {'dot_F' : [1e-3, 0, 0,\n",
    "                             0, 'x', 0,\n",
    "                             0, 0, 'x'],\n",
    "                  'P':['x', 'x', 'x',\n",
    "                       'x', 0, 'x',\n",
    "                       'x', 'x', 0]\n",
    "                 },\n",
    "                 'discretization' : {'t' : 50., 'N' : 50}, # Use t=250. and N=250\n",
    "                 'additional': {'f_out' : 4}\n",
    "                 }]\n",
    "    \n",
    "    # Assign solver and load step to the damask job\n",
    "    job_damask.loading = pr.continuum.damask.Loading(solver=job_damask.list_solvers()[0],\n",
    "                                                     load_steps=load_step\n",
    "                                                     )\n",
    "    # Run the simulation\n",
    "    job_damask.run()\n",
    "\n",
    "    return job_damask.output.strain_von_Mises, job_damask.output.stress_von_Mises"
   ]
  },
  {
   "cell_type": "code",
   "execution_count": 19,
   "id": "7caebfb5-fb80-4a4f-91d5-2efce51980cd",
   "metadata": {},
   "outputs": [],
   "source": [
    "# Set plasticity parameters of the material\n",
    "plasticity_data = {\"type\": \"phenopowerlaw\",\n",
    "                   \"references\": [\"https://doi.org/10.1016/j.actamat.2014.07.071\",\n",
    "                                   \"https://doi.org/10.1007/BF02900224\"],\n",
    "                   \"output\": [\"xi_sl\", \"gamma_sl\"],\n",
    "                   \"N_sl\": [12, 12],\n",
    "                   \"dot_gamma_0_sl\": [0.001, 0.001],\n",
    "                   \"n_sl\": [20, 20],\n",
    "                   \"a_sl\": [3.3838750211834414, 2.71513775941709],\n",
    "                   \"xi_0_sl\": [58854884.55400854, 116398683.46869445],\n",
    "                   \"xi_inf_sl\": [245397260.8849832, 289183253.8512693],\n",
    "                   \"h_0_sl_sl\": [839702224.3104236, 797832430.2007155],\n",
    "                   \"h_sl_sl\": [1, 1.4, 1, 1.4, 1.4, 1.4, 1.4, 1.4,\n",
    "                                1.4,1.4, 1.4, 1.4, 1.4, 1.4, 1.4, 1.4,\n",
    "                                1.4,1.4, 1.4, 1.4, 1.4, 1.4, 1.4, 1.4]\n",
    "                   }"
   ]
  },
  {
   "cell_type": "code",
   "execution_count": 20,
   "id": "4fa59792-cd9a-4ad1-b9bf-bd2ca61345ce",
   "metadata": {},
   "outputs": [
    {
     "name": "stdout",
     "output_type": "stream",
     "text": [
      "Running for concentrations: 0.0\n",
      "The job damask_simulation_0d0 was saved and received the ID: 71\n",
      "Running for concentrations: 0.02\n",
      "The job damask_simulation_0d02 was saved and received the ID: 72\n",
      "Running for concentrations: 0.04\n",
      "The job damask_simulation_0d04 was saved and received the ID: 73\n"
     ]
    }
   ],
   "source": [
    "# Run damask simulation for three concentrations [0.0, 0.02, 004]\n",
    "result = []\n",
    "for i, c in enumerate(concentrations[::2]):\n",
    "    print(\"Running for concentrations:\", c)\n",
    "    elasticity_data = {\"type\": \"Hooke\",\n",
    "                       \"C_11\":float(np.polyval(C11_fit, c))*GPa_to_Pa,\n",
    "                       \"C_12\":float(np.polyval(C12_fit, c))*GPa_to_Pa,\n",
    "                       \"C_44\":float(np.polyval(C44_fit, c))*GPa_to_Pa\n",
    "                      }\n",
    "    \n",
    "    result.append(run_damask_simulation(elasticity_data,\n",
    "                                        plasticity_data)\n",
    "                 )"
   ]
  },
  {
   "cell_type": "markdown",
   "id": "9e734395-a63d-4c94-a40a-dfb6e0b895c2",
   "metadata": {},
   "source": [
    "#### <font style=\"font-family:roboto;color:#455e6c\"> Plot damask calculated stress-strain curves for different concentrations </font>"
   ]
  },
  {
   "cell_type": "code",
   "execution_count": 21,
   "id": "e157432e-19fe-4333-89ba-129f7c3f1acd",
   "metadata": {},
   "outputs": [
    {
     "data": {
      "image/png": "[encoded data removed]",
      "text/plain": [
       "<Figure size 640x480 with 1 Axes>"
      ]
     },
     "metadata": {},
     "output_type": "display_data"
    }
   ],
   "source": [
    "# Plot the result\n",
    "colors = ['r','g','b']\n",
    "plt.plot(result[0][0], result[0][1], 'r', linewidth=2,\n",
    "         label = 'Al={}%'.format(0*100))\n",
    "plt.plot(result[1][0], result[1][1], 'b', linestyle=\"None\",marker = 'o' ,\n",
    "         label = 'Al={}%'.format(0.02*100))\n",
    "plt.plot(result[2][0], result[2][1], 'g', linestyle=\"None\",marker = '*' ,\n",
    "         label = 'Al={}%'.format(0.04*100))\n",
    "plt.grid(True)\n",
    "plt.xlabel('Strain')\n",
    "plt.ylabel('Stress (Pa)')\n",
    "plt.legend( loc='lower right')\n",
    "plt.title(\"Concentration Dependent Stress-Strain Plot\")\n",
    "plt.show();"
   ]
  }
 ],
 "metadata": {
  "kernelspec": {
   "display_name": "Python 3 (ipykernel)",
   "language": "python",
   "name": "python3"
  },
  "language_info": {
   "codemirror_mode": {
    "name": "ipython",
    "version": 3
   },
   "file_extension": ".py",
   "mimetype": "text/x-python",
   "name": "python",
   "nbconvert_exporter": "python",
   "pygments_lexer": "ipython3",
   "version": "3.11.8"
  }
 },
 "nbformat": 4,
 "nbformat_minor": 5
}
